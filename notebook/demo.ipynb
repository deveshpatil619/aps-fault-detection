{
 "cells": [
  {
   "cell_type": "code",
   "execution_count": 1,
   "metadata": {},
   "outputs": [
    {
     "data": {
      "text/plain": [
       "'f:\\\\Industry_ready_projects\\\\Sensors_project\\\\aps-fault-detection\\\\notebook'"
      ]
     },
     "execution_count": 1,
     "metadata": {},
     "output_type": "execute_result"
    }
   ],
   "source": [
    "pwd()"
   ]
  },
  {
   "cell_type": "code",
   "execution_count": 2,
   "metadata": {},
   "outputs": [
    {
     "name": "stdout",
     "output_type": "stream",
     "text": [
      "f:\\Industry_ready_projects\\Sensors_project\\aps-fault-detection\n"
     ]
    }
   ],
   "source": [
    "cd f:\\\\Industry_ready_projects\\\\Sensors_project\\\\aps-fault-detection\n"
   ]
  },
  {
   "cell_type": "code",
   "execution_count": 9,
   "metadata": {},
   "outputs": [],
   "source": [
    "from sensor.utils.main_utils import read_yaml_file"
   ]
  },
  {
   "cell_type": "code",
   "execution_count": 10,
   "metadata": {},
   "outputs": [],
   "source": [
    "filepath = r\"F:\\Industry_ready_projects\\Sensors_project\\aps-fault-detection\\config\\schema.yaml\""
   ]
  },
  {
   "cell_type": "code",
   "execution_count": 11,
   "metadata": {},
   "outputs": [],
   "source": [
    "schema_config = read_yaml_file(file_path=filepath) "
   ]
  },
  {
   "cell_type": "code",
   "execution_count": 12,
   "metadata": {},
   "outputs": [
    {
     "data": {
      "text/plain": [
       "dict"
      ]
     },
     "execution_count": 12,
     "metadata": {},
     "output_type": "execute_result"
    }
   ],
   "source": [
    "type(schema_config)"
   ]
  },
  {
   "cell_type": "code",
   "execution_count": 13,
   "metadata": {},
   "outputs": [
    {
     "data": {
      "text/plain": [
       "dict_keys(['columns', 'numerical_columns', 'drop_columns'])"
      ]
     },
     "execution_count": 13,
     "metadata": {},
     "output_type": "execute_result"
    }
   ],
   "source": [
    "schema_config.keys()"
   ]
  },
  {
   "cell_type": "code",
   "execution_count": 14,
   "metadata": {},
   "outputs": [
    {
     "data": {
      "text/plain": [
       "[{'class': 'category'},\n",
       " {'aa_000': 'int'},\n",
       " {'ac_000': 'int'},\n",
       " {'ad_000': 'int'},\n",
       " {'ae_000': 'int'},\n",
       " {'af_000': 'int'},\n",
       " {'ag_000': 'int'},\n",
       " {'ag_001': 'int'},\n",
       " {'ag_002': 'int'},\n",
       " {'ag_003': 'int'}]"
      ]
     },
     "execution_count": 14,
     "metadata": {},
     "output_type": "execute_result"
    }
   ],
   "source": [
    "schema_config['columns'][:10]"
   ]
  },
  {
   "cell_type": "code",
   "execution_count": 15,
   "metadata": {},
   "outputs": [
    {
     "data": {
      "text/plain": [
       "['aa_000',\n",
       " 'ac_000',\n",
       " 'ad_000',\n",
       " 'ae_000',\n",
       " 'af_000',\n",
       " 'ag_000',\n",
       " 'ag_001',\n",
       " 'ag_002',\n",
       " 'ag_003',\n",
       " 'ag_004']"
      ]
     },
     "execution_count": 15,
     "metadata": {},
     "output_type": "execute_result"
    }
   ],
   "source": [
    "schema_config['numerical_columns'][:10]"
   ]
  },
  {
   "cell_type": "code",
   "execution_count": 16,
   "metadata": {},
   "outputs": [
    {
     "data": {
      "text/plain": [
       "['br_000', 'bq_000', 'bp_000', 'ab_000', 'cr_000', 'bo_000', 'bn_000']"
      ]
     },
     "execution_count": 16,
     "metadata": {},
     "output_type": "execute_result"
    }
   ],
   "source": [
    "schema_config['drop_columns'][:20]"
   ]
  },
  {
   "cell_type": "code",
   "execution_count": 17,
   "metadata": {},
   "outputs": [
    {
     "data": {
      "text/plain": [
       "3"
      ]
     },
     "execution_count": 17,
     "metadata": {},
     "output_type": "execute_result"
    }
   ],
   "source": [
    "len(schema_config)"
   ]
  },
  {
   "cell_type": "code",
   "execution_count": 18,
   "metadata": {},
   "outputs": [
    {
     "data": {
      "text/plain": [
       "164"
      ]
     },
     "execution_count": 18,
     "metadata": {},
     "output_type": "execute_result"
    }
   ],
   "source": [
    "len(schema_config['columns'])"
   ]
  },
  {
   "cell_type": "code",
   "execution_count": 19,
   "metadata": {},
   "outputs": [
    {
     "data": {
      "text/plain": [
       "163"
      ]
     },
     "execution_count": 19,
     "metadata": {},
     "output_type": "execute_result"
    }
   ],
   "source": [
    "len(schema_config['numerical_columns'])"
   ]
  },
  {
   "cell_type": "code",
   "execution_count": 20,
   "metadata": {},
   "outputs": [
    {
     "data": {
      "text/plain": [
       "7"
      ]
     },
     "execution_count": 20,
     "metadata": {},
     "output_type": "execute_result"
    }
   ],
   "source": [
    "len(schema_config['drop_columns'])"
   ]
  },
  {
   "attachments": {},
   "cell_type": "markdown",
   "metadata": {},
   "source": [
    "### Data drift"
   ]
  },
  {
   "cell_type": "code",
   "execution_count": 21,
   "metadata": {},
   "outputs": [],
   "source": [
    "from scipy.stats import  ks_2samp\n",
    "import numpy as np"
   ]
  },
  {
   "cell_type": "code",
   "execution_count": 22,
   "metadata": {},
   "outputs": [],
   "source": [
    "d1 = np.arange(10)\n",
    "d2 = np.arange(20)"
   ]
  },
  {
   "cell_type": "code",
   "execution_count": 23,
   "metadata": {},
   "outputs": [
    {
     "data": {
      "text/plain": [
       "array([0, 1, 2, 3, 4, 5, 6, 7, 8, 9])"
      ]
     },
     "execution_count": 23,
     "metadata": {},
     "output_type": "execute_result"
    }
   ],
   "source": [
    "d1"
   ]
  },
  {
   "cell_type": "code",
   "execution_count": 24,
   "metadata": {},
   "outputs": [
    {
     "data": {
      "text/plain": [
       "array([ 0,  1,  2,  3,  4,  5,  6,  7,  8,  9, 10, 11, 12, 13, 14, 15, 16,\n",
       "       17, 18, 19])"
      ]
     },
     "execution_count": 24,
     "metadata": {},
     "output_type": "execute_result"
    }
   ],
   "source": [
    "d2"
   ]
  },
  {
   "cell_type": "code",
   "execution_count": 25,
   "metadata": {},
   "outputs": [
    {
     "data": {
      "text/plain": [
       "KstestResult(statistic=0.5, pvalue=0.062288669185221024)"
      ]
     },
     "execution_count": 25,
     "metadata": {},
     "output_type": "execute_result"
    }
   ],
   "source": [
    "ks_2samp(d1,d2)"
   ]
  },
  {
   "cell_type": "code",
   "execution_count": 26,
   "metadata": {},
   "outputs": [],
   "source": [
    "train_file_path = r\"F:\\Industry_ready_projects\\Sensors_project\\aps-fault-detection\\artifact\\12_21_2022_15_05_16\\data_ingestion\\ingested\\train.csv\""
   ]
  },
  {
   "cell_type": "code",
   "execution_count": 27,
   "metadata": {},
   "outputs": [],
   "source": [
    "test_file_path = r\"F:\\Industry_ready_projects\\Sensors_project\\aps-fault-detection\\artifact\\12_21_2022_15_05_16\\data_ingestion\\ingested\\test.csv\""
   ]
  },
  {
   "cell_type": "code",
   "execution_count": 28,
   "metadata": {},
   "outputs": [],
   "source": [
    "import pandas as pd"
   ]
  },
  {
   "cell_type": "code",
   "execution_count": 29,
   "metadata": {},
   "outputs": [],
   "source": [
    "train_df = pd.read_csv(train_file_path)"
   ]
  },
  {
   "cell_type": "code",
   "execution_count": 30,
   "metadata": {},
   "outputs": [],
   "source": [
    "test_df = pd.read_csv(test_file_path)"
   ]
  },
  {
   "cell_type": "code",
   "execution_count": 31,
   "metadata": {},
   "outputs": [
    {
     "data": {
      "text/html": [
       "<div>\n",
       "<style scoped>\n",
       "    .dataframe tbody tr th:only-of-type {\n",
       "        vertical-align: middle;\n",
       "    }\n",
       "\n",
       "    .dataframe tbody tr th {\n",
       "        vertical-align: top;\n",
       "    }\n",
       "\n",
       "    .dataframe thead th {\n",
       "        text-align: right;\n",
       "    }\n",
       "</style>\n",
       "<table border=\"1\" class=\"dataframe\">\n",
       "  <thead>\n",
       "    <tr style=\"text-align: right;\">\n",
       "      <th></th>\n",
       "      <th>class</th>\n",
       "      <th>aa_000</th>\n",
       "      <th>ab_000</th>\n",
       "      <th>ac_000</th>\n",
       "      <th>ad_000</th>\n",
       "      <th>ae_000</th>\n",
       "      <th>af_000</th>\n",
       "      <th>ag_000</th>\n",
       "      <th>ag_001</th>\n",
       "      <th>ag_002</th>\n",
       "      <th>...</th>\n",
       "      <th>ee_002</th>\n",
       "      <th>ee_003</th>\n",
       "      <th>ee_004</th>\n",
       "      <th>ee_005</th>\n",
       "      <th>ee_006</th>\n",
       "      <th>ee_007</th>\n",
       "      <th>ee_008</th>\n",
       "      <th>ee_009</th>\n",
       "      <th>ef_000</th>\n",
       "      <th>eg_000</th>\n",
       "    </tr>\n",
       "  </thead>\n",
       "  <tbody>\n",
       "    <tr>\n",
       "      <th>0</th>\n",
       "      <td>neg</td>\n",
       "      <td>1416</td>\n",
       "      <td>NaN</td>\n",
       "      <td>8.000000e+01</td>\n",
       "      <td>74.0</td>\n",
       "      <td>0.0</td>\n",
       "      <td>0.0</td>\n",
       "      <td>0.0</td>\n",
       "      <td>0.0</td>\n",
       "      <td>0.0</td>\n",
       "      <td>...</td>\n",
       "      <td>2840.0</td>\n",
       "      <td>1770.0</td>\n",
       "      <td>5654.0</td>\n",
       "      <td>54208.0</td>\n",
       "      <td>12.0</td>\n",
       "      <td>0.0</td>\n",
       "      <td>0.0</td>\n",
       "      <td>0.0</td>\n",
       "      <td>0.0</td>\n",
       "      <td>0.0</td>\n",
       "    </tr>\n",
       "    <tr>\n",
       "      <th>1</th>\n",
       "      <td>neg</td>\n",
       "      <td>60156</td>\n",
       "      <td>NaN</td>\n",
       "      <td>1.994000e+03</td>\n",
       "      <td>1940.0</td>\n",
       "      <td>0.0</td>\n",
       "      <td>0.0</td>\n",
       "      <td>0.0</td>\n",
       "      <td>0.0</td>\n",
       "      <td>0.0</td>\n",
       "      <td>...</td>\n",
       "      <td>535472.0</td>\n",
       "      <td>284076.0</td>\n",
       "      <td>865690.0</td>\n",
       "      <td>1141410.0</td>\n",
       "      <td>15324.0</td>\n",
       "      <td>2244.0</td>\n",
       "      <td>656.0</td>\n",
       "      <td>12.0</td>\n",
       "      <td>0.0</td>\n",
       "      <td>0.0</td>\n",
       "    </tr>\n",
       "    <tr>\n",
       "      <th>2</th>\n",
       "      <td>neg</td>\n",
       "      <td>30452</td>\n",
       "      <td>NaN</td>\n",
       "      <td>0.000000e+00</td>\n",
       "      <td>NaN</td>\n",
       "      <td>0.0</td>\n",
       "      <td>0.0</td>\n",
       "      <td>0.0</td>\n",
       "      <td>0.0</td>\n",
       "      <td>0.0</td>\n",
       "      <td>...</td>\n",
       "      <td>196570.0</td>\n",
       "      <td>104496.0</td>\n",
       "      <td>218766.0</td>\n",
       "      <td>260362.0</td>\n",
       "      <td>179492.0</td>\n",
       "      <td>125656.0</td>\n",
       "      <td>244244.0</td>\n",
       "      <td>4424.0</td>\n",
       "      <td>0.0</td>\n",
       "      <td>0.0</td>\n",
       "    </tr>\n",
       "    <tr>\n",
       "      <th>3</th>\n",
       "      <td>neg</td>\n",
       "      <td>3040</td>\n",
       "      <td>2.0</td>\n",
       "      <td>1.280000e+02</td>\n",
       "      <td>70.0</td>\n",
       "      <td>0.0</td>\n",
       "      <td>0.0</td>\n",
       "      <td>0.0</td>\n",
       "      <td>0.0</td>\n",
       "      <td>0.0</td>\n",
       "      <td>...</td>\n",
       "      <td>11044.0</td>\n",
       "      <td>3536.0</td>\n",
       "      <td>9436.0</td>\n",
       "      <td>8394.0</td>\n",
       "      <td>8688.0</td>\n",
       "      <td>85556.0</td>\n",
       "      <td>198.0</td>\n",
       "      <td>0.0</td>\n",
       "      <td>0.0</td>\n",
       "      <td>0.0</td>\n",
       "    </tr>\n",
       "    <tr>\n",
       "      <th>4</th>\n",
       "      <td>neg</td>\n",
       "      <td>152410</td>\n",
       "      <td>NaN</td>\n",
       "      <td>NaN</td>\n",
       "      <td>NaN</td>\n",
       "      <td>NaN</td>\n",
       "      <td>NaN</td>\n",
       "      <td>0.0</td>\n",
       "      <td>0.0</td>\n",
       "      <td>0.0</td>\n",
       "      <td>...</td>\n",
       "      <td>1245678.0</td>\n",
       "      <td>639018.0</td>\n",
       "      <td>1596178.0</td>\n",
       "      <td>2386918.0</td>\n",
       "      <td>376878.0</td>\n",
       "      <td>172950.0</td>\n",
       "      <td>295970.0</td>\n",
       "      <td>14576.0</td>\n",
       "      <td>NaN</td>\n",
       "      <td>NaN</td>\n",
       "    </tr>\n",
       "    <tr>\n",
       "      <th>...</th>\n",
       "      <td>...</td>\n",
       "      <td>...</td>\n",
       "      <td>...</td>\n",
       "      <td>...</td>\n",
       "      <td>...</td>\n",
       "      <td>...</td>\n",
       "      <td>...</td>\n",
       "      <td>...</td>\n",
       "      <td>...</td>\n",
       "      <td>...</td>\n",
       "      <td>...</td>\n",
       "      <td>...</td>\n",
       "      <td>...</td>\n",
       "      <td>...</td>\n",
       "      <td>...</td>\n",
       "      <td>...</td>\n",
       "      <td>...</td>\n",
       "      <td>...</td>\n",
       "      <td>...</td>\n",
       "      <td>...</td>\n",
       "      <td>...</td>\n",
       "    </tr>\n",
       "    <tr>\n",
       "      <th>28945</th>\n",
       "      <td>neg</td>\n",
       "      <td>98434</td>\n",
       "      <td>NaN</td>\n",
       "      <td>2.130706e+09</td>\n",
       "      <td>948.0</td>\n",
       "      <td>0.0</td>\n",
       "      <td>0.0</td>\n",
       "      <td>0.0</td>\n",
       "      <td>0.0</td>\n",
       "      <td>0.0</td>\n",
       "      <td>...</td>\n",
       "      <td>1116430.0</td>\n",
       "      <td>443548.0</td>\n",
       "      <td>707664.0</td>\n",
       "      <td>540300.0</td>\n",
       "      <td>437712.0</td>\n",
       "      <td>328676.0</td>\n",
       "      <td>703082.0</td>\n",
       "      <td>24062.0</td>\n",
       "      <td>0.0</td>\n",
       "      <td>0.0</td>\n",
       "    </tr>\n",
       "    <tr>\n",
       "      <th>28946</th>\n",
       "      <td>neg</td>\n",
       "      <td>90588</td>\n",
       "      <td>NaN</td>\n",
       "      <td>0.000000e+00</td>\n",
       "      <td>NaN</td>\n",
       "      <td>0.0</td>\n",
       "      <td>0.0</td>\n",
       "      <td>0.0</td>\n",
       "      <td>0.0</td>\n",
       "      <td>0.0</td>\n",
       "      <td>...</td>\n",
       "      <td>488006.0</td>\n",
       "      <td>255140.0</td>\n",
       "      <td>599782.0</td>\n",
       "      <td>592164.0</td>\n",
       "      <td>650744.0</td>\n",
       "      <td>550160.0</td>\n",
       "      <td>713368.0</td>\n",
       "      <td>50456.0</td>\n",
       "      <td>0.0</td>\n",
       "      <td>0.0</td>\n",
       "    </tr>\n",
       "    <tr>\n",
       "      <th>28947</th>\n",
       "      <td>neg</td>\n",
       "      <td>80</td>\n",
       "      <td>NaN</td>\n",
       "      <td>9.000000e+01</td>\n",
       "      <td>74.0</td>\n",
       "      <td>0.0</td>\n",
       "      <td>0.0</td>\n",
       "      <td>0.0</td>\n",
       "      <td>0.0</td>\n",
       "      <td>0.0</td>\n",
       "      <td>...</td>\n",
       "      <td>1854.0</td>\n",
       "      <td>148.0</td>\n",
       "      <td>154.0</td>\n",
       "      <td>12.0</td>\n",
       "      <td>34.0</td>\n",
       "      <td>116.0</td>\n",
       "      <td>26.0</td>\n",
       "      <td>358.0</td>\n",
       "      <td>0.0</td>\n",
       "      <td>0.0</td>\n",
       "    </tr>\n",
       "    <tr>\n",
       "      <th>28948</th>\n",
       "      <td>neg</td>\n",
       "      <td>1632</td>\n",
       "      <td>NaN</td>\n",
       "      <td>3.800000e+01</td>\n",
       "      <td>22.0</td>\n",
       "      <td>54.0</td>\n",
       "      <td>28.0</td>\n",
       "      <td>NaN</td>\n",
       "      <td>NaN</td>\n",
       "      <td>NaN</td>\n",
       "      <td>...</td>\n",
       "      <td>NaN</td>\n",
       "      <td>NaN</td>\n",
       "      <td>NaN</td>\n",
       "      <td>NaN</td>\n",
       "      <td>NaN</td>\n",
       "      <td>NaN</td>\n",
       "      <td>NaN</td>\n",
       "      <td>NaN</td>\n",
       "      <td>0.0</td>\n",
       "      <td>2.0</td>\n",
       "    </tr>\n",
       "    <tr>\n",
       "      <th>28949</th>\n",
       "      <td>neg</td>\n",
       "      <td>2038562</td>\n",
       "      <td>NaN</td>\n",
       "      <td>NaN</td>\n",
       "      <td>NaN</td>\n",
       "      <td>NaN</td>\n",
       "      <td>NaN</td>\n",
       "      <td>0.0</td>\n",
       "      <td>0.0</td>\n",
       "      <td>0.0</td>\n",
       "      <td>...</td>\n",
       "      <td>15156450.0</td>\n",
       "      <td>7510214.0</td>\n",
       "      <td>15876010.0</td>\n",
       "      <td>13968654.0</td>\n",
       "      <td>12472318.0</td>\n",
       "      <td>8704218.0</td>\n",
       "      <td>14045640.0</td>\n",
       "      <td>1140832.0</td>\n",
       "      <td>NaN</td>\n",
       "      <td>NaN</td>\n",
       "    </tr>\n",
       "  </tbody>\n",
       "</table>\n",
       "<p>28950 rows × 171 columns</p>\n",
       "</div>"
      ],
      "text/plain": [
       "      class   aa_000  ab_000        ac_000  ad_000  ae_000  af_000  ag_000  \\\n",
       "0       neg     1416     NaN  8.000000e+01    74.0     0.0     0.0     0.0   \n",
       "1       neg    60156     NaN  1.994000e+03  1940.0     0.0     0.0     0.0   \n",
       "2       neg    30452     NaN  0.000000e+00     NaN     0.0     0.0     0.0   \n",
       "3       neg     3040     2.0  1.280000e+02    70.0     0.0     0.0     0.0   \n",
       "4       neg   152410     NaN           NaN     NaN     NaN     NaN     0.0   \n",
       "...     ...      ...     ...           ...     ...     ...     ...     ...   \n",
       "28945   neg    98434     NaN  2.130706e+09   948.0     0.0     0.0     0.0   \n",
       "28946   neg    90588     NaN  0.000000e+00     NaN     0.0     0.0     0.0   \n",
       "28947   neg       80     NaN  9.000000e+01    74.0     0.0     0.0     0.0   \n",
       "28948   neg     1632     NaN  3.800000e+01    22.0    54.0    28.0     NaN   \n",
       "28949   neg  2038562     NaN           NaN     NaN     NaN     NaN     0.0   \n",
       "\n",
       "       ag_001  ag_002  ...      ee_002     ee_003      ee_004      ee_005  \\\n",
       "0         0.0     0.0  ...      2840.0     1770.0      5654.0     54208.0   \n",
       "1         0.0     0.0  ...    535472.0   284076.0    865690.0   1141410.0   \n",
       "2         0.0     0.0  ...    196570.0   104496.0    218766.0    260362.0   \n",
       "3         0.0     0.0  ...     11044.0     3536.0      9436.0      8394.0   \n",
       "4         0.0     0.0  ...   1245678.0   639018.0   1596178.0   2386918.0   \n",
       "...       ...     ...  ...         ...        ...         ...         ...   \n",
       "28945     0.0     0.0  ...   1116430.0   443548.0    707664.0    540300.0   \n",
       "28946     0.0     0.0  ...    488006.0   255140.0    599782.0    592164.0   \n",
       "28947     0.0     0.0  ...      1854.0      148.0       154.0        12.0   \n",
       "28948     NaN     NaN  ...         NaN        NaN         NaN         NaN   \n",
       "28949     0.0     0.0  ...  15156450.0  7510214.0  15876010.0  13968654.0   \n",
       "\n",
       "           ee_006     ee_007      ee_008     ee_009  ef_000  eg_000  \n",
       "0            12.0        0.0         0.0        0.0     0.0     0.0  \n",
       "1         15324.0     2244.0       656.0       12.0     0.0     0.0  \n",
       "2        179492.0   125656.0    244244.0     4424.0     0.0     0.0  \n",
       "3          8688.0    85556.0       198.0        0.0     0.0     0.0  \n",
       "4        376878.0   172950.0    295970.0    14576.0     NaN     NaN  \n",
       "...           ...        ...         ...        ...     ...     ...  \n",
       "28945    437712.0   328676.0    703082.0    24062.0     0.0     0.0  \n",
       "28946    650744.0   550160.0    713368.0    50456.0     0.0     0.0  \n",
       "28947        34.0      116.0        26.0      358.0     0.0     0.0  \n",
       "28948         NaN        NaN         NaN        NaN     0.0     2.0  \n",
       "28949  12472318.0  8704218.0  14045640.0  1140832.0     NaN     NaN  \n",
       "\n",
       "[28950 rows x 171 columns]"
      ]
     },
     "execution_count": 31,
     "metadata": {},
     "output_type": "execute_result"
    }
   ],
   "source": [
    "train_df"
   ]
  },
  {
   "cell_type": "code",
   "execution_count": 32,
   "metadata": {},
   "outputs": [
    {
     "data": {
      "text/plain": [
       "Index(['class', 'aa_000', 'ab_000', 'ac_000', 'ad_000', 'ae_000', 'af_000',\n",
       "       'ag_000', 'ag_001', 'ag_002',\n",
       "       ...\n",
       "       'ee_002', 'ee_003', 'ee_004', 'ee_005', 'ee_006', 'ee_007', 'ee_008',\n",
       "       'ee_009', 'ef_000', 'eg_000'],\n",
       "      dtype='object', length=171)"
      ]
     },
     "execution_count": 32,
     "metadata": {},
     "output_type": "execute_result"
    }
   ],
   "source": [
    "train_df.columns"
   ]
  },
  {
   "cell_type": "code",
   "execution_count": 33,
   "metadata": {},
   "outputs": [
    {
     "data": {
      "text/plain": [
       "Index(['class', 'aa_000', 'ab_000', 'ac_000', 'ad_000', 'ae_000', 'af_000',\n",
       "       'ag_000', 'ag_001', 'ag_002',\n",
       "       ...\n",
       "       'ee_002', 'ee_003', 'ee_004', 'ee_005', 'ee_006', 'ee_007', 'ee_008',\n",
       "       'ee_009', 'ef_000', 'eg_000'],\n",
       "      dtype='object', length=171)"
      ]
     },
     "execution_count": 33,
     "metadata": {},
     "output_type": "execute_result"
    }
   ],
   "source": [
    "test_df.columns"
   ]
  },
  {
   "cell_type": "code",
   "execution_count": 34,
   "metadata": {},
   "outputs": [
    {
     "data": {
      "text/plain": [
       "KstestResult(statistic=0.014070929621585626, pvalue=0.199890818969086)"
      ]
     },
     "execution_count": 34,
     "metadata": {},
     "output_type": "execute_result"
    }
   ],
   "source": [
    "d1 = train_df['ag_009']\n",
    "d2 = test_df['ag_009']\n",
    "ks_2samp(d1,d2)"
   ]
  },
  {
   "cell_type": "code",
   "execution_count": 35,
   "metadata": {},
   "outputs": [
    {
     "data": {
      "text/plain": [
       "KstestResult(statistic=0.0006927170503402413, pvalue=1.0)"
      ]
     },
     "execution_count": 35,
     "metadata": {},
     "output_type": "execute_result"
    }
   ],
   "source": [
    "d1 = train_df['class']\n",
    "d2 = test_df['class']\n",
    "ks_2samp(d1,d2)"
   ]
  },
  {
   "cell_type": "code",
   "execution_count": 36,
   "metadata": {},
   "outputs": [
    {
     "name": "stdout",
     "output_type": "stream",
     "text": [
      "1.0\n",
      "0.0006927170503402413\n"
     ]
    }
   ],
   "source": [
    "lala = ks_2samp(d1,d2)\n",
    "print(lala.pvalue)\n",
    "print(lala.statistic)\n"
   ]
  },
  {
   "cell_type": "code",
   "execution_count": 37,
   "metadata": {},
   "outputs": [
    {
     "data": {
      "text/plain": [
       "Index(['class', 'aa_000', 'ab_000', 'ac_000', 'ad_000', 'ae_000', 'af_000',\n",
       "       'ag_000', 'ag_001', 'ag_002',\n",
       "       ...\n",
       "       'ee_002', 'ee_003', 'ee_004', 'ee_005', 'ee_006', 'ee_007', 'ee_008',\n",
       "       'ee_009', 'ef_000', 'eg_000'],\n",
       "      dtype='object', length=171)"
      ]
     },
     "execution_count": 37,
     "metadata": {},
     "output_type": "execute_result"
    }
   ],
   "source": [
    "train_df.columns"
   ]
  },
  {
   "cell_type": "code",
   "execution_count": 38,
   "metadata": {},
   "outputs": [],
   "source": [
    "report = {}\n",
    "def get_drift_report(base_df,current_df,threshold = 0.5): ## train_df, test_df and threshold\n",
    "    for column in train_df.columns:\n",
    "        d1 = train_df[column]\n",
    "        d2 = test_df[column]\n",
    "        is_same_dist = ks_2samp(d1,d2)  ## calculating the drift\n",
    "\n",
    "        if threshold<=is_same_dist.pvalue:  ## comparing our set threshold with the drift pvalue\n",
    "            is_found = False    ## returning false when drift is okay\n",
    "        else:\n",
    "            is_found = True  ## returning true when the drift is greater then our threshold\n",
    "        report.update({column:{\n",
    "                        \"p_value\":float(is_same_dist.pvalue),\n",
    "                        \"drift_status\":is_found\n",
    "                    }})\n",
    "\n",
    "    return report"
   ]
  },
  {
   "cell_type": "code",
   "execution_count": 39,
   "metadata": {},
   "outputs": [
    {
     "data": {
      "text/plain": [
       "{'class': {'p_value': 1.0, 'drift_status': False},\n",
       " 'aa_000': {'p_value': 0.6030738727575737, 'drift_status': False},\n",
       " 'ab_000': {'p_value': 0.9999999999265013, 'drift_status': False},\n",
       " 'ac_000': {'p_value': 0.6975982604396602, 'drift_status': False},\n",
       " 'ad_000': {'p_value': 0.9169983844122721, 'drift_status': False},\n",
       " 'ae_000': {'p_value': 1.0, 'drift_status': False},\n",
       " 'af_000': {'p_value': 1.0, 'drift_status': False},\n",
       " 'ag_000': {'p_value': 0.9999999642188458, 'drift_status': False},\n",
       " 'ag_001': {'p_value': 0.9999913023039882, 'drift_status': False},\n",
       " 'ag_002': {'p_value': 0.9992574181246415, 'drift_status': False},\n",
       " 'ag_003': {'p_value': 0.9994864389410202, 'drift_status': False},\n",
       " 'ag_004': {'p_value': 0.804930700126038, 'drift_status': False},\n",
       " 'ag_005': {'p_value': 0.44006045575046937, 'drift_status': True},\n",
       " 'ag_006': {'p_value': 0.5777659334454852, 'drift_status': False},\n",
       " 'ag_007': {'p_value': 0.3788960847245785, 'drift_status': True},\n",
       " 'ag_008': {'p_value': 0.5659072064905257, 'drift_status': False},\n",
       " 'ag_009': {'p_value': 0.199890818969086, 'drift_status': True},\n",
       " 'ah_000': {'p_value': 0.5469782333800313, 'drift_status': False},\n",
       " 'ai_000': {'p_value': 0.8820148504441363, 'drift_status': False},\n",
       " 'aj_000': {'p_value': 0.9997969048259372, 'drift_status': False},\n",
       " 'ak_000': {'p_value': 0.9998211473003408, 'drift_status': False},\n",
       " 'al_000': {'p_value': 0.9205155794947242, 'drift_status': False},\n",
       " 'am_0': {'p_value': 0.8649539359818318, 'drift_status': False},\n",
       " 'an_000': {'p_value': 0.3198779150567992, 'drift_status': True},\n",
       " 'ao_000': {'p_value': 0.5900562092518882, 'drift_status': False},\n",
       " 'ap_000': {'p_value': 0.4126336234435277, 'drift_status': True},\n",
       " 'aq_000': {'p_value': 0.7524041700218574, 'drift_status': False},\n",
       " 'ar_000': {'p_value': 0.9999999831494453, 'drift_status': False},\n",
       " 'as_000': {'p_value': 1.0, 'drift_status': False},\n",
       " 'at_000': {'p_value': 0.9934567896913865, 'drift_status': False},\n",
       " 'au_000': {'p_value': 1.0, 'drift_status': False},\n",
       " 'av_000': {'p_value': 0.5972680242494434, 'drift_status': False},\n",
       " 'ax_000': {'p_value': 0.9698226134308799, 'drift_status': False},\n",
       " 'ay_000': {'p_value': 0.9999999990384382, 'drift_status': False},\n",
       " 'ay_001': {'p_value': 0.9999999759933067, 'drift_status': False},\n",
       " 'ay_002': {'p_value': 0.999994613091575, 'drift_status': False},\n",
       " 'ay_003': {'p_value': 0.9999999841856406, 'drift_status': False},\n",
       " 'ay_004': {'p_value': 0.9999985384671106, 'drift_status': False},\n",
       " 'ay_005': {'p_value': 0.07769346637315111, 'drift_status': True},\n",
       " 'ay_006': {'p_value': 0.8732837115993792, 'drift_status': False},\n",
       " 'ay_007': {'p_value': 0.7246721902574729, 'drift_status': False},\n",
       " 'ay_008': {'p_value': 0.2415769620913455, 'drift_status': True},\n",
       " 'ay_009': {'p_value': 0.9999999999840771, 'drift_status': False},\n",
       " 'az_000': {'p_value': 0.7140142241225538, 'drift_status': False},\n",
       " 'az_001': {'p_value': 0.692782357658533, 'drift_status': False},\n",
       " 'az_002': {'p_value': 0.6742758391439934, 'drift_status': False},\n",
       " 'az_003': {'p_value': 0.6967215524880144, 'drift_status': False},\n",
       " 'az_004': {'p_value': 0.3036015880206627, 'drift_status': True},\n",
       " 'az_005': {'p_value': 0.9080407994493452, 'drift_status': False},\n",
       " 'az_006': {'p_value': 0.06413786057516624, 'drift_status': True},\n",
       " 'az_007': {'p_value': 0.7919367586560154, 'drift_status': False},\n",
       " 'az_008': {'p_value': 0.4165810004615206, 'drift_status': True},\n",
       " 'az_009': {'p_value': 0.9999980922728132, 'drift_status': False},\n",
       " 'ba_000': {'p_value': 0.8530022803843047, 'drift_status': False},\n",
       " 'ba_001': {'p_value': 0.5772940346118616, 'drift_status': False},\n",
       " 'ba_002': {'p_value': 0.9165487567939108, 'drift_status': False},\n",
       " 'ba_003': {'p_value': 0.9712243084638837, 'drift_status': False},\n",
       " 'ba_004': {'p_value': 0.8366482105485524, 'drift_status': False},\n",
       " 'ba_005': {'p_value': 0.8056592793123105, 'drift_status': False},\n",
       " 'ba_006': {'p_value': 0.8791640083309921, 'drift_status': False},\n",
       " 'ba_007': {'p_value': 0.8150667995079752, 'drift_status': False},\n",
       " 'ba_008': {'p_value': 0.9781542567488284, 'drift_status': False},\n",
       " 'ba_009': {'p_value': 0.9550286795837766, 'drift_status': False},\n",
       " 'bb_000': {'p_value': 0.38044781230635205, 'drift_status': True},\n",
       " 'bc_000': {'p_value': 0.624529942251209, 'drift_status': False},\n",
       " 'bd_000': {'p_value': 0.7895241573776653, 'drift_status': False},\n",
       " 'be_000': {'p_value': 0.6480147027664118, 'drift_status': False},\n",
       " 'bf_000': {'p_value': 0.9983295484127, 'drift_status': False},\n",
       " 'bg_000': {'p_value': 0.5642047337788061, 'drift_status': False},\n",
       " 'bh_000': {'p_value': 0.7084996312980019, 'drift_status': False},\n",
       " 'bi_000': {'p_value': 0.46225180887054684, 'drift_status': True},\n",
       " 'bj_000': {'p_value': 0.7690370227558084, 'drift_status': False},\n",
       " 'bk_000': {'p_value': 0.4667065133615669, 'drift_status': True},\n",
       " 'bl_000': {'p_value': 0.155478863547181, 'drift_status': True},\n",
       " 'bm_000': {'p_value': 0.8037759847545957, 'drift_status': False},\n",
       " 'bn_000': {'p_value': 0.3143186387045168, 'drift_status': True},\n",
       " 'bo_000': {'p_value': 0.6617584850324165, 'drift_status': False},\n",
       " 'bp_000': {'p_value': 0.6748530436619673, 'drift_status': False},\n",
       " 'bq_000': {'p_value': 0.7698353498555368, 'drift_status': False},\n",
       " 'br_000': {'p_value': 0.9500888204935473, 'drift_status': False},\n",
       " 'bs_000': {'p_value': 0.6244346150454523, 'drift_status': False},\n",
       " 'bt_000': {'p_value': 0.6074948482753549, 'drift_status': False},\n",
       " 'bu_000': {'p_value': 0.3594737378619972, 'drift_status': True},\n",
       " 'bv_000': {'p_value': 0.3594737378619972, 'drift_status': True},\n",
       " 'bx_000': {'p_value': 0.4678553944411563, 'drift_status': True},\n",
       " 'by_000': {'p_value': 0.6028380261756721, 'drift_status': False},\n",
       " 'bz_000': {'p_value': 0.5747100612482743, 'drift_status': False},\n",
       " 'ca_000': {'p_value': 0.7422330540324269, 'drift_status': False},\n",
       " 'cb_000': {'p_value': 0.9730730962735191, 'drift_status': False},\n",
       " 'cc_000': {'p_value': 0.5296239847336007, 'drift_status': False},\n",
       " 'cd_000': {'p_value': 0.9999999999999998, 'drift_status': False},\n",
       " 'ce_000': {'p_value': 0.8001500680562064, 'drift_status': False},\n",
       " 'cf_000': {'p_value': 0.9353990230848828, 'drift_status': False},\n",
       " 'cg_000': {'p_value': 0.5856040518290595, 'drift_status': False},\n",
       " 'ch_000': {'p_value': 0.9999999999997345, 'drift_status': False},\n",
       " 'ci_000': {'p_value': 0.7863715737919383, 'drift_status': False},\n",
       " 'cj_000': {'p_value': 0.9702505405493341, 'drift_status': False},\n",
       " 'ck_000': {'p_value': 0.9540358811446361, 'drift_status': False},\n",
       " 'cl_000': {'p_value': 0.7148049857429208, 'drift_status': False},\n",
       " 'cm_000': {'p_value': 0.7650490586010028, 'drift_status': False},\n",
       " 'cn_000': {'p_value': 0.9994934955017359, 'drift_status': False},\n",
       " 'cn_001': {'p_value': 0.9994199362460775, 'drift_status': False},\n",
       " 'cn_002': {'p_value': 0.7290869376908198, 'drift_status': False},\n",
       " 'cn_003': {'p_value': 0.9635351388397124, 'drift_status': False},\n",
       " 'cn_004': {'p_value': 0.6866470726371365, 'drift_status': False},\n",
       " 'cn_005': {'p_value': 0.8587838824545072, 'drift_status': False},\n",
       " 'cn_006': {'p_value': 0.6905532444998344, 'drift_status': False},\n",
       " 'cn_007': {'p_value': 0.5448333557430391, 'drift_status': False},\n",
       " 'cn_008': {'p_value': 0.7888443324788816, 'drift_status': False},\n",
       " 'cn_009': {'p_value': 0.9941113886969659, 'drift_status': False},\n",
       " 'co_000': {'p_value': 0.8393749977097571, 'drift_status': False},\n",
       " 'cp_000': {'p_value': 0.9738709350453016, 'drift_status': False},\n",
       " 'cq_000': {'p_value': 0.3594737378619972, 'drift_status': True},\n",
       " 'cr_000': {'p_value': 0.9999999999973407, 'drift_status': False},\n",
       " 'cs_000': {'p_value': 0.42955900633109745, 'drift_status': True},\n",
       " 'cs_001': {'p_value': 0.6234191156932717, 'drift_status': False},\n",
       " 'cs_002': {'p_value': 0.9269727188908908, 'drift_status': False},\n",
       " 'cs_003': {'p_value': 0.7623683776381782, 'drift_status': False},\n",
       " 'cs_004': {'p_value': 0.8599350331917168, 'drift_status': False},\n",
       " 'cs_005': {'p_value': 0.7745748040882117, 'drift_status': False},\n",
       " 'cs_006': {'p_value': 0.5592236041777099, 'drift_status': False},\n",
       " 'cs_007': {'p_value': 0.8363049711413653, 'drift_status': False},\n",
       " 'cs_008': {'p_value': 0.9948574204081568, 'drift_status': False},\n",
       " 'cs_009': {'p_value': 0.9999999999999994, 'drift_status': False},\n",
       " 'ct_000': {'p_value': 0.6672709146276783, 'drift_status': False},\n",
       " 'cu_000': {'p_value': 0.7876446315742962, 'drift_status': False},\n",
       " 'cv_000': {'p_value': 0.7817644779878304, 'drift_status': False},\n",
       " 'cx_000': {'p_value': 0.9534857901875246, 'drift_status': False},\n",
       " 'cy_000': {'p_value': 0.9998779671607558, 'drift_status': False},\n",
       " 'cz_000': {'p_value': 0.675565912504873, 'drift_status': False},\n",
       " 'da_000': {'p_value': 0.9999999999999972, 'drift_status': False},\n",
       " 'db_000': {'p_value': 0.38262786781517644, 'drift_status': True},\n",
       " 'dc_000': {'p_value': 0.774157134549578, 'drift_status': False},\n",
       " 'dd_000': {'p_value': 0.6015970799392796, 'drift_status': False},\n",
       " 'de_000': {'p_value': 0.9121509542437917, 'drift_status': False},\n",
       " 'df_000': {'p_value': 0.9999999999927824, 'drift_status': False},\n",
       " 'dg_000': {'p_value': 0.9999999278000874, 'drift_status': False},\n",
       " 'dh_000': {'p_value': 0.9987146669215872, 'drift_status': False},\n",
       " 'di_000': {'p_value': 0.9417528822966759, 'drift_status': False},\n",
       " 'dj_000': {'p_value': 0.9999999999927797, 'drift_status': False},\n",
       " 'dk_000': {'p_value': 0.9999999996987076, 'drift_status': False},\n",
       " 'dl_000': {'p_value': 0.999999999829053, 'drift_status': False},\n",
       " 'dm_000': {'p_value': 0.9999999504837267, 'drift_status': False},\n",
       " 'dn_000': {'p_value': 0.6778396495550592, 'drift_status': False},\n",
       " 'do_000': {'p_value': 0.9151952379435843, 'drift_status': False},\n",
       " 'dp_000': {'p_value': 0.5536726678684674, 'drift_status': False},\n",
       " 'dq_000': {'p_value': 0.9836981629922039, 'drift_status': False},\n",
       " 'dr_000': {'p_value': 0.9982705552929665, 'drift_status': False},\n",
       " 'ds_000': {'p_value': 0.7795982784655068, 'drift_status': False},\n",
       " 'dt_000': {'p_value': 0.8451319935536835, 'drift_status': False},\n",
       " 'du_000': {'p_value': 0.8681684198152622, 'drift_status': False},\n",
       " 'dv_000': {'p_value': 0.981727560944414, 'drift_status': False},\n",
       " 'dx_000': {'p_value': 0.9204451582013089, 'drift_status': False},\n",
       " 'dy_000': {'p_value': 0.9829873402255076, 'drift_status': False},\n",
       " 'dz_000': {'p_value': 1.0, 'drift_status': False},\n",
       " 'ea_000': {'p_value': 1.0, 'drift_status': False},\n",
       " 'eb_000': {'p_value': 0.7352780369545229, 'drift_status': False},\n",
       " 'ec_00': {'p_value': 0.8767387495027409, 'drift_status': False},\n",
       " 'ed_000': {'p_value': 0.7668154444355142, 'drift_status': False},\n",
       " 'ee_000': {'p_value': 0.958214105110887, 'drift_status': False},\n",
       " 'ee_001': {'p_value': 0.7981443537257933, 'drift_status': False},\n",
       " 'ee_002': {'p_value': 0.8256484194640878, 'drift_status': False},\n",
       " 'ee_003': {'p_value': 0.8800212676945458, 'drift_status': False},\n",
       " 'ee_004': {'p_value': 0.8625340184035224, 'drift_status': False},\n",
       " 'ee_005': {'p_value': 0.976511796442105, 'drift_status': False},\n",
       " 'ee_006': {'p_value': 0.7475950971512939, 'drift_status': False},\n",
       " 'ee_007': {'p_value': 0.7149787911881528, 'drift_status': False},\n",
       " 'ee_008': {'p_value': 0.47902649986443413, 'drift_status': True},\n",
       " 'ee_009': {'p_value': 0.9814205894530306, 'drift_status': False},\n",
       " 'ef_000': {'p_value': 1.0, 'drift_status': False},\n",
       " 'eg_000': {'p_value': 1.0, 'drift_status': False}}"
      ]
     },
     "execution_count": 39,
     "metadata": {},
     "output_type": "execute_result"
    }
   ],
   "source": [
    "get_drift_report(train_df,test_df)"
   ]
  },
  {
   "cell_type": "code",
   "execution_count": 40,
   "metadata": {},
   "outputs": [],
   "source": [
    "drift_report = get_drift_report(train_df,test_df)"
   ]
  },
  {
   "cell_type": "code",
   "execution_count": 41,
   "metadata": {},
   "outputs": [],
   "source": [
    "import os,sys\n",
    "from sensor.utils.main_utils import write_yaml_file"
   ]
  },
  {
   "cell_type": "code",
   "execution_count": 42,
   "metadata": {},
   "outputs": [],
   "source": [
    "write_yaml_file(file_path=os.path.join(os.getcwd(),\"report.yaml\"),content=drift_report,replace=True)"
   ]
  },
  {
   "cell_type": "code",
   "execution_count": 43,
   "metadata": {},
   "outputs": [],
   "source": [
    "from sensor.ml.model.estimator import TargetValueMapping"
   ]
  },
  {
   "cell_type": "code",
   "execution_count": 45,
   "metadata": {},
   "outputs": [
    {
     "data": {
      "text/plain": [
       "{'neg': 0, 'pos': 1}"
      ]
     },
     "execution_count": 45,
     "metadata": {},
     "output_type": "execute_result"
    }
   ],
   "source": [
    "TargetValueMapping().to_dict()"
   ]
  },
  {
   "cell_type": "code",
   "execution_count": 46,
   "metadata": {},
   "outputs": [
    {
     "data": {
      "text/plain": [
       "{0: 'neg', 1: 'pos'}"
      ]
     },
     "execution_count": 46,
     "metadata": {},
     "output_type": "execute_result"
    }
   ],
   "source": [
    "TargetValueMapping().reverse_mapping()"
   ]
  },
  {
   "cell_type": "code",
   "execution_count": null,
   "metadata": {},
   "outputs": [],
   "source": []
  },
  {
   "cell_type": "code",
   "execution_count": null,
   "metadata": {},
   "outputs": [],
   "source": []
  },
  {
   "cell_type": "code",
   "execution_count": null,
   "metadata": {},
   "outputs": [],
   "source": []
  },
  {
   "cell_type": "code",
   "execution_count": null,
   "metadata": {},
   "outputs": [],
   "source": []
  }
 ],
 "metadata": {
  "kernelspec": {
   "display_name": "Python 3",
   "language": "python",
   "name": "python3"
  },
  "language_info": {
   "codemirror_mode": {
    "name": "ipython",
    "version": 3
   },
   "file_extension": ".py",
   "mimetype": "text/x-python",
   "name": "python",
   "nbconvert_exporter": "python",
   "pygments_lexer": "ipython3",
   "version": "3.8.0"
  },
  "orig_nbformat": 4,
  "vscode": {
   "interpreter": {
    "hash": "ff0d91300876931207232d01add3156fa7c8214350996c757a3c6cebc4b3b5d5"
   }
  }
 },
 "nbformat": 4,
 "nbformat_minor": 2
}
